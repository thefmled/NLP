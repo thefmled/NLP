{
 "cells": [
  {
   "cell_type": "markdown",
   "metadata": {
    "colab_type": "text",
    "id": "fk0evCZ7U9WO"
   },
   "source": [
    "# **Assignment 1 on Natural Language Processing**\n",
    "\n",
    "### Date : 4th Sept, 2020\n",
    "\n",
    "#### Instructor : Prof. Sudeshna Sarkar\n",
    "\n",
    "#### Teaching Assistants : Alapan Kuila, Aniruddha Roy, Anusha Potnuru, Uppada Vishnu"
   ]
  },
  {
   "cell_type": "markdown",
   "metadata": {
    "colab_type": "text",
    "id": "Il_b_LFKXi8t"
   },
   "source": [
    " # NLTK Library"
   ]
  },
  {
   "cell_type": "markdown",
   "metadata": {
    "colab_type": "text",
    "id": "ss5CZjC2Xt0i"
   },
   "source": [
    "The [NLTK](https://www.nltk.org/) Python framework is generally used as an education and research tool. Tokenization, Stemming, Lemmatization, Punctuation, Character count, word count are some of these packages which will be discussed in this tutorial.\n",
    "\n",
    "**Installing Nltk** <br>\n",
    "Nltk can be installed using PIP or Conda package managers.For detailed installation instructions follow this [link](https://www.nltk.org/install.html).\n",
    "\n",
    "To ensure we are all on the same page, the coding environment will be in **python3**. We suggest downloading Anaconda3 and creating a separate environment to do this assignment. \n",
    "The link to anaconda3 for Windows and Linux is available here https://docs.anaconda.com/anaconda/install/. \n",
    "The steps to install NLTK is available on the link: \n",
    "```bash\n",
    "sudo pip3 install nltk \n",
    "python3 \n",
    "nltk.download()\n",
    "```"
   ]
  },
  {
   "cell_type": "markdown",
   "metadata": {
    "colab_type": "text",
    "id": "r4txbU5-RlMv"
   },
   "source": [
    "**Note for Question and answers:**\n",
    "\n",
    "Write your answers to the point in the text box below labelled as **Answer here**."
   ]
  },
  {
   "cell_type": "markdown",
   "metadata": {
    "colab_type": "text",
    "id": "52_aJRSqaHgC"
   },
   "source": [
    "# Tokenizing words and Sentences using Nltk"
   ]
  },
  {
   "cell_type": "markdown",
   "metadata": {
    "colab_type": "text",
    "id": "o5_ElYaeaMbR"
   },
   "source": [
    "**Tokenization** is the process by which big quantity of text is divided into smaller parts called tokens. <br>It is crucial to understand the pattern in the text in order to perform various NLP tasks.These tokens are very useful for finding such patterns.<br>\n",
    "\n",
    "Natural Language toolkit has very important module tokenize which further comprises of sub-modules\n",
    "\n",
    "1. word tokenize\n",
    "2. sentence tokenize"
   ]
  },
  {
   "cell_type": "code",
   "execution_count": 1,
   "metadata": {
    "colab": {},
    "colab_type": "code",
    "id": "sby_OS3qZ_fz"
   },
   "outputs": [
    {
     "name": "stderr",
     "output_type": "stream",
     "text": [
      "[nltk_data] Downloading package punkt to\n",
      "[nltk_data]     C:\\Users\\Rushali\\AppData\\Roaming\\nltk_data...\n",
      "[nltk_data]   Package punkt is already up-to-date!\n",
      "[nltk_data] Downloading package inaugural to\n",
      "[nltk_data]     C:\\Users\\Rushali\\AppData\\Roaming\\nltk_data...\n",
      "[nltk_data]   Package inaugural is already up-to-date!\n"
     ]
    }
   ],
   "source": [
    "# Importing modules\n",
    "import nltk\n",
    "nltk.download('punkt') # For tokenizers\n",
    "nltk.download('inaugural') # For dataset\n",
    "from nltk.tokenize import word_tokenize,sent_tokenize"
   ]
  },
  {
   "cell_type": "code",
   "execution_count": 2,
   "metadata": {
    "colab": {},
    "colab_type": "code",
    "id": "ew9Aq5WHXSn-"
   },
   "outputs": [],
   "source": [
    "# Sample corpus.\n",
    "from nltk.corpus import inaugural\n",
    "corpus = inaugural.raw('1789-Washington.txt')\n",
    "# print(corpus)"
   ]
  },
  {
   "cell_type": "markdown",
   "metadata": {
    "colab_type": "text",
    "id": "V2wbXKzVW0GO"
   },
   "source": [
    "### **TASK**:\n",
    "\n",
    "For the given corpus, \n",
    "1. Print the number of sentences and tokens. \n",
    "2. Print the average number of tokens per sentence.\n",
    "3. Print the number of unique tokens\n",
    "4. Print the number of tokens after stopword removal using the stopwords from nltk.\n"
   ]
  },
  {
   "cell_type": "code",
   "execution_count": 3,
   "metadata": {
    "colab": {},
    "colab_type": "code",
    "id": "jrtu9HcHXFe6"
   },
   "outputs": [
    {
     "name": "stdout",
     "output_type": "stream",
     "text": [
      "Number of sentences in the corpus is = 23\n",
      "Number of words in the corpus is = 1537\n",
      "Average number of words in one sentence is = 66\n",
      "Number of unique words in the corpus is = 626\n",
      "Number of words after removal of stopwords is = 800\n"
     ]
    },
    {
     "name": "stderr",
     "output_type": "stream",
     "text": [
      "[nltk_data] Downloading package stopwords to\n",
      "[nltk_data]     C:\\Users\\Rushali\\AppData\\Roaming\\nltk_data...\n",
      "[nltk_data]   Package stopwords is already up-to-date!\n"
     ]
    }
   ],
   "source": [
    "# TODO\n",
    "nltk.download('stopwords')\n",
    "import numpy as np\n",
    "tokenized_sentences=nltk.sent_tokenize(corpus)\n",
    "count_word = 0\n",
    "w_ar = []\n",
    "unique = []\n",
    "from nltk.corpus import stopwords\n",
    "stop_words = set(stopwords.words('english'))\n",
    "filtered = []\n",
    "all_words = []\n",
    "\n",
    "for sentence in tokenized_sentences:\n",
    "    words = nltk.word_tokenize(sentence)\n",
    "    w_ar.append(len(words))\n",
    "    count_word = count_word + len(words)\n",
    "    for word in words:\n",
    "        all_words.append(word)\n",
    "        if word in unique:\n",
    "            continue\n",
    "        else:\n",
    "            unique.append(word)\n",
    "            \n",
    "for word in all_words:\n",
    "    if word in stop_words:\n",
    "        continue\n",
    "    else:\n",
    "        filtered.append(word)\n",
    "        \n",
    "print(\"Number of sentences in the corpus is = \" + str(len(tokenized_sentences)))\n",
    "print(\"Number of words in the corpus is = \" + str(count_word))\n",
    "print(\"Average number of words in one sentence is = \" + str(int(np.mean(w_ar))))\n",
    "print(\"Number of unique words in the corpus is = \" + str(len(unique)))\n",
    "print(\"Number of words after removal of stopwords is = \" + str(len(filtered)))"
   ]
  },
  {
   "cell_type": "markdown",
   "metadata": {
    "colab_type": "text",
    "id": "UViYY9_3t2UE"
   },
   "source": [
    "# Stemming and Lemmatization with NLTK"
   ]
  },
  {
   "cell_type": "markdown",
   "metadata": {
    "colab_type": "text",
    "id": "g55XX9KDLgO7"
   },
   "source": [
    "**What is Stemming?** <br>\n",
    "Stemming is a kind of normalization for words. Normalization is a technique where a set of words in a sentence are converted into a sequence to shorten its lookup. The words which have the same meaning but have some variation according to the context or sentence are normalized.<br>\n",
    "Hence Stemming is a way to find the root word from any variations of respective word\n",
    "\n",
    "There are many stemmers provided by Nltk like **PorterStemmer**, **SnowballStemmer**, **LancasterStemmer**.<br>\n",
    "\n",
    "We will try and see differences between Porterstemmer and Snowballstemmer"
   ]
  },
  {
   "cell_type": "code",
   "execution_count": 4,
   "metadata": {
    "colab": {},
    "colab_type": "code",
    "id": "SS4Ij__XLfTB"
   },
   "outputs": [
    {
     "name": "stdout",
     "output_type": "stream",
     "text": [
      "Porter stemmer used : grows : grow\n",
      "Snowball stemmer used : grows : grow\n",
      "\n",
      "\n",
      "Porter stemmer used : leaves : leav\n",
      "Snowball stemmer used : leaves : leav\n",
      "\n",
      "\n",
      "Porter stemmer used : fairly : fairli\n",
      "Snowball stemmer used : fairly : fair\n",
      "\n",
      "\n",
      "Porter stemmer used : cats : cat\n",
      "Snowball stemmer used : cats : cat\n",
      "\n",
      "\n",
      "Porter stemmer used : trouble : troubl\n",
      "Snowball stemmer used : trouble : troubl\n",
      "\n",
      "\n",
      "Porter stemmer used : misunderstanding : misunderstand\n",
      "Snowball stemmer used : misunderstanding : misunderstand\n",
      "\n",
      "\n",
      "Porter stemmer used : friendships : friendship\n",
      "Snowball stemmer used : friendships : friendship\n",
      "\n",
      "\n",
      "Porter stemmer used : easily : easili\n",
      "Snowball stemmer used : easily : easili\n",
      "\n",
      "\n",
      "Porter stemmer used : rational : ration\n",
      "Snowball stemmer used : rational : ration\n",
      "\n",
      "\n",
      "Porter stemmer used : relational : relat\n",
      "Snowball stemmer used : relational : relat\n",
      "\n",
      "\n",
      "I am think of end thing\n"
     ]
    }
   ],
   "source": [
    "from nltk.stem import PorterStemmer\n",
    "from nltk.stem import SnowballStemmer # Note that SnowballStemmer has language as parameter.\n",
    "\n",
    "words = [\"grows\",\"leaves\",\"fairly\",\"cats\",\"trouble\",\"misunderstanding\",\"friendships\",\"easily\", \"rational\", \"relational\"]\n",
    "\n",
    "# TODO\n",
    "ps = PorterStemmer()\n",
    "ss = SnowballStemmer(\"english\")\n",
    "for w in words:\n",
    "    print(\"Porter stemmer used : \" + w, \":\", ps.stem(w))\n",
    "    print(\"Snowball stemmer used : \" + w, \":\", ss.stem(w))\n",
    "    print('\\n')\n",
    "# create an instance of both the stemmers and perform stemming on above words\n",
    "\n",
    "# TODO\n",
    "# Complete the function which takes a sentence/corpus and gets its stemmed version.\n",
    "def stemSentence(sentence=None):\n",
    "    words = nltk.word_tokenize(sentence)\n",
    "    return ' '.join([ps.stem(word) for word in words])\n",
    "\n",
    "print(stemSentence(\"I am thinking of ending things\"))"
   ]
  },
  {
   "cell_type": "markdown",
   "metadata": {
    "colab_type": "text",
    "id": "0JuE8CuDQSno"
   },
   "source": [
    "**What is Lemmatization?** <br>\n",
    "Lemmatization is the algorithmic process of finding the lemma of a word depending on their meaning. Lemmatization usually refers to the morphological analysis of words, which aims to remove inflectional endings. It helps in returning the base or dictionary form of a word, which is known as the lemma.<br>\n",
    "\n",
    "*The NLTK Lemmatization method is based on WorldNet's built-in morph function.*"
   ]
  },
  {
   "cell_type": "code",
   "execution_count": 5,
   "metadata": {
    "colab": {},
    "colab_type": "code",
    "id": "noyl1YNsQp98"
   },
   "outputs": [
    {
     "name": "stderr",
     "output_type": "stream",
     "text": [
      "[nltk_data] Downloading package wordnet to\n",
      "[nltk_data]     C:\\Users\\Rushali\\AppData\\Roaming\\nltk_data...\n",
      "[nltk_data]   Package wordnet is already up-to-date!\n"
     ]
    },
    {
     "name": "stdout",
     "output_type": "stream",
     "text": [
      "No POS used : grows\n",
      "POS used : grow\n",
      "\n",
      "\n",
      "No POS used : leaf\n",
      "POS used : leave\n",
      "\n",
      "\n",
      "No POS used : fairly\n",
      "POS used : fairly\n",
      "\n",
      "\n",
      "No POS used : cat\n",
      "POS used : cat\n",
      "\n",
      "\n",
      "No POS used : trouble\n",
      "POS used : trouble\n",
      "\n",
      "\n",
      "No POS used : running\n",
      "POS used : run\n",
      "\n",
      "\n",
      "No POS used : friendship\n",
      "POS used : friendships\n",
      "\n",
      "\n",
      "No POS used : easily\n",
      "POS used : easily\n",
      "\n",
      "\n",
      "No POS used : wa\n",
      "POS used : be\n",
      "\n",
      "\n",
      "No POS used : relational\n",
      "POS used : relational\n",
      "\n",
      "\n",
      "No POS used : ha\n",
      "POS used : have\n",
      "\n",
      "\n",
      "\n",
      "\n",
      "I am thinking of ending thing\n"
     ]
    }
   ],
   "source": [
    "#imports\n",
    "from nltk.stem import WordNetLemmatizer\n",
    "nltk.download('wordnet') # Since Lemmatization method is based on WorldNet's built-in morph function.\n",
    "\n",
    "words = [\"grows\",\"leaves\",\"fairly\",\"cats\",\"trouble\",\"running\",\"friendships\",\"easily\", \"was\", \"relational\",\"has\"]\n",
    "\n",
    "#TODO\n",
    "# Create an instance of the Lemmatizer and perform Lemmatization on above words\n",
    "# You can also give Parts-of-speech(pos) to the Lemmatizer for example \"v\" (verb). Check the differences in the outputs.\n",
    "lem = WordNetLemmatizer()\n",
    "for word in words:\n",
    "    print(\"No POS used : \" + str(lem.lemmatize(word)))\n",
    "    print(\"POS used : \" + str(lem.lemmatize(word, pos = \"v\")))\n",
    "    print('\\n')\n",
    "\n",
    "#TODO\n",
    "# Complete the function which takes a sentence/corpus and gets its lemmatized version.\n",
    "def lemmatizeSentence(sentence=None):\n",
    "    words = nltk.word_tokenize(sentence)\n",
    "    return ' '.join([lem.lemmatize(word) for word in words])\n",
    "\n",
    "print('\\n')\n",
    "print(lemmatizeSentence(\"\\nI am thinking of ending things\"))"
   ]
  },
  {
   "cell_type": "markdown",
   "metadata": {
    "colab_type": "text",
    "id": "VJW6HsycSAlU"
   },
   "source": [
    "**Question:** Give example of two words which have same stem but different lemma? Show the stem and lemma of both words in the code below \n",
    "\n"
   ]
  },
  {
   "cell_type": "markdown",
   "metadata": {
    "colab_type": "text",
    "id": "zcq6bUEaSAt1"
   },
   "source": [
    "**Answer here:**"
   ]
  },
  {
   "cell_type": "code",
   "execution_count": 6,
   "metadata": {
    "colab": {},
    "colab_type": "code",
    "id": "a8OtIEmFkGBM"
   },
   "outputs": [
    {
     "name": "stdout",
     "output_type": "stream",
     "text": [
      "Stem of word 1 = happi\n",
      "Stem of word 2 = happi\n",
      "Lemma of word 1 = happy\n",
      "Lemma of word 2 = happiness\n"
     ]
    }
   ],
   "source": [
    "#TODO\n",
    "# Write code to print the stem and lemma of both your words\n",
    "word1 = \"happy\"\n",
    "word2 = \"happiness\"\n",
    "ps = PorterStemmer()\n",
    "print(\"Stem of word 1 = \" + ps.stem(word1))\n",
    "print(\"Stem of word 2 = \"+ ps.stem(word2))\n",
    "lem = WordNetLemmatizer()\n",
    "print(\"Lemma of word 1 = \"+ lem.lemmatize(word1))\n",
    "print(\"Lemma of word 2 = \"+lem.lemmatize(word2, pos = \"n\"))"
   ]
  },
  {
   "cell_type": "markdown",
   "metadata": {
    "colab_type": "text",
    "id": "e0tz3SIGSA2b"
   },
   "source": [
    "**Question:** Write a comparison between stemming and lemmatization?"
   ]
  },
  {
   "cell_type": "markdown",
   "metadata": {
    "colab_type": "text",
    "id": "aks8QaQ_SA_N"
   },
   "source": [
    "**Answer here:**"
   ]
  },
  {
   "cell_type": "markdown",
   "metadata": {},
   "source": [
    "Stemming is the process by which the basic unit of a word is found out, such that this basic unit exists in each and every inflection of the original word. However, the stem of the word does not necessarily need to be meaningful, or be present in the dictionary.\n",
    "\n",
    "Lemmatization is the process by which the root of a word is found out, such that the root is a meaningful word in itself and is present in the dictionary. This lemma is the root of all other inflections of the original word too.\n",
    "\n",
    "For example : If the original words considered are happy and happiness, the stem of both will be happi, because this is the basic unitof both the words, but has no meaning. But, the lemma of the words are different, since the root of both the words had to be meaningful."
   ]
  }
 ],
 "metadata": {
  "colab": {
   "collapsed_sections": [],
   "name": "NLP Assignment 1",
   "provenance": []
  },
  "kernelspec": {
   "display_name": "Python 3",
   "language": "python",
   "name": "python3"
  },
  "language_info": {
   "codemirror_mode": {
    "name": "ipython",
    "version": 3
   },
   "file_extension": ".py",
   "mimetype": "text/x-python",
   "name": "python",
   "nbconvert_exporter": "python",
   "pygments_lexer": "ipython3",
   "version": "3.8.3"
  }
 },
 "nbformat": 4,
 "nbformat_minor": 1
}
