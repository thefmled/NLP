{
 "cells": [
  {
   "cell_type": "markdown",
   "metadata": {
    "id": "zyJ25uz0kSaw"
   },
   "source": [
    "# Assignment 3 on Natural Language Processing\n",
    "\n",
    "## Date : 30th Sept, 2020\n",
    "\n",
    "### Instructor : Prof. Sudeshna Sarkar\n",
    "\n",
    "### Teaching Assistants : Alapan Kuila, Aniruddha Roy, Anusha Potnuru, Uppada Vishnu"
   ]
  },
  {
   "cell_type": "markdown",
   "metadata": {
    "id": "Ao1nhg9RknmF"
   },
   "source": [
    "The central idea of this assignment is to use Naive Bayes classifier and LSTM based classifier and compare the models by accuracy on IMDB dataset.\n",
    "\n"
   ]
  },
  {
   "cell_type": "markdown",
   "metadata": {
    "id": "ONM5Q4SCe9Mr"
   },
   "source": [
    "Please submit with outputs. "
   ]
  },
  {
   "cell_type": "code",
   "execution_count": 1,
   "metadata": {
    "id": "ElRkQElWUMjG"
   },
   "outputs": [],
   "source": [
    "import re\n",
    "import pandas as pd\n",
    "import numpy as np\n",
    "from sklearn.preprocessing import LabelEncoder\n",
    "from sklearn.model_selection import train_test_split\n",
    "from keras.preprocessing.text import Tokenizer\n",
    "from keras.preprocessing.sequence import pad_sequences\n",
    "import keras\n",
    "from sklearn.metrics import classification_report\n",
    "import math"
   ]
  },
  {
   "cell_type": "code",
   "execution_count": 2,
   "metadata": {
    "id": "fhHRim2AUm4z"
   },
   "outputs": [
    {
     "name": "stdout",
     "output_type": "stream",
     "text": [
      "                                                  Review Sentiment\n",
      "1      One of the other reviewers has mentioned that ...  positive\n",
      "2      A wonderful little production. <br /><br />The...  positive\n",
      "3      I thought this was a wonderful way to spend ti...  positive\n",
      "4      Basically there's a family where a little boy ...  negative\n",
      "5      Petter Mattei's \"Love in the Time of Money\" is...  positive\n",
      "...                                                  ...       ...\n",
      "49996  I thought this movie did a down right good job...  positive\n",
      "49997  Bad plot, bad dialogue, bad acting, idiotic di...  negative\n",
      "49998  I am a Catholic taught in parochial elementary...  negative\n",
      "49999  I'm going to have to disagree with the previou...  negative\n",
      "50000  No one expects the Star Trek movies to be high...  negative\n",
      "\n",
      "[50000 rows x 2 columns]\n"
     ]
    }
   ],
   "source": [
    "import csv\n",
    "#Load the IMDB dataset. You can load it using pandas as dataframe\n",
    "data = pd.read_csv('IMDB Dataset.csv', usecols = range(2), quotechar=\"\\\"\", delimiter = ',', header = None, error_bad_lines=False, encoding='utf-8')\n",
    "data.drop(0, axis = 0, inplace = True)\n",
    "data = data.rename(columns={0: \"Review\", 1: 'Sentiment'})\n",
    "data.dropna(subset = ['Sentiment'], inplace=True)\n",
    "print(data)"
   ]
  },
  {
   "cell_type": "markdown",
   "metadata": {
    "id": "lK_Hn2f6VMP7"
   },
   "source": [
    "# Preprocessing\n",
    "PrePrecessing that needs to be done on lower cased corpus\n",
    "\n",
    "1. Remove html tags\n",
    "2. Remove URLS\n",
    "3. Remove non alphanumeric character\n",
    "4. Remove Stopwords\n",
    "5. Perform stemming and lemmatization\n",
    "\n",
    "You can use regex from re. "
   ]
  },
  {
   "cell_type": "code",
   "execution_count": 3,
   "metadata": {
    "id": "5B5lHZPsVOXv"
   },
   "outputs": [
    {
     "data": {
      "text/html": [
       "<div>\n",
       "<style scoped>\n",
       "    .dataframe tbody tr th:only-of-type {\n",
       "        vertical-align: middle;\n",
       "    }\n",
       "\n",
       "    .dataframe tbody tr th {\n",
       "        vertical-align: top;\n",
       "    }\n",
       "\n",
       "    .dataframe thead th {\n",
       "        text-align: right;\n",
       "    }\n",
       "</style>\n",
       "<table border=\"1\" class=\"dataframe\">\n",
       "  <thead>\n",
       "    <tr style=\"text-align: right;\">\n",
       "      <th></th>\n",
       "      <th>Review</th>\n",
       "      <th>Sentiment</th>\n",
       "    </tr>\n",
       "  </thead>\n",
       "  <tbody>\n",
       "    <tr>\n",
       "      <th>1</th>\n",
       "      <td>one review mention watch 1 oz episod youll hoo...</td>\n",
       "      <td>positive</td>\n",
       "    </tr>\n",
       "    <tr>\n",
       "      <th>2</th>\n",
       "      <td>wonder littl product film techniqu unassum old...</td>\n",
       "      <td>positive</td>\n",
       "    </tr>\n",
       "    <tr>\n",
       "      <th>3</th>\n",
       "      <td>thought wonder way spend time hot summer weeke...</td>\n",
       "      <td>positive</td>\n",
       "    </tr>\n",
       "    <tr>\n",
       "      <th>4</th>\n",
       "      <td>basic there famili littl boy jake think there ...</td>\n",
       "      <td>negative</td>\n",
       "    </tr>\n",
       "    <tr>\n",
       "      <th>5</th>\n",
       "      <td>petter mattei love time money visual stun film...</td>\n",
       "      <td>positive</td>\n",
       "    </tr>\n",
       "    <tr>\n",
       "      <th>...</th>\n",
       "      <td>...</td>\n",
       "      <td>...</td>\n",
       "    </tr>\n",
       "    <tr>\n",
       "      <th>49996</th>\n",
       "      <td>thought movi right good job wasnt creativ orig...</td>\n",
       "      <td>positive</td>\n",
       "    </tr>\n",
       "    <tr>\n",
       "      <th>49997</th>\n",
       "      <td>bad plot bad dialogu bad act idiot direct anno...</td>\n",
       "      <td>negative</td>\n",
       "    </tr>\n",
       "    <tr>\n",
       "      <th>49998</th>\n",
       "      <td>cathol taught parochi elementari school nun ta...</td>\n",
       "      <td>negative</td>\n",
       "    </tr>\n",
       "    <tr>\n",
       "      <th>49999</th>\n",
       "      <td>im go disagre previou comment side maltin one ...</td>\n",
       "      <td>negative</td>\n",
       "    </tr>\n",
       "    <tr>\n",
       "      <th>50000</th>\n",
       "      <td>one expect star trek movi high art fan expect ...</td>\n",
       "      <td>negative</td>\n",
       "    </tr>\n",
       "  </tbody>\n",
       "</table>\n",
       "<p>50000 rows × 2 columns</p>\n",
       "</div>"
      ],
      "text/plain": [
       "                                                  Review Sentiment\n",
       "1      one review mention watch 1 oz episod youll hoo...  positive\n",
       "2      wonder littl product film techniqu unassum old...  positive\n",
       "3      thought wonder way spend time hot summer weeke...  positive\n",
       "4      basic there famili littl boy jake think there ...  negative\n",
       "5      petter mattei love time money visual stun film...  positive\n",
       "...                                                  ...       ...\n",
       "49996  thought movi right good job wasnt creativ orig...  positive\n",
       "49997  bad plot bad dialogu bad act idiot direct anno...  negative\n",
       "49998  cathol taught parochi elementari school nun ta...  negative\n",
       "49999  im go disagre previou comment side maltin one ...  negative\n",
       "50000  one expect star trek movi high art fan expect ...  negative\n",
       "\n",
       "[50000 rows x 2 columns]"
      ]
     },
     "execution_count": 3,
     "metadata": {},
     "output_type": "execute_result"
    }
   ],
   "source": [
    "import nltk\n",
    "from nltk.corpus import stopwords\n",
    "stop = stopwords.words('english')\n",
    "from nltk.stem import PorterStemmer\n",
    "ps = PorterStemmer()\n",
    "import re\n",
    "\n",
    "def preprocess(raw):\n",
    "    cleanr = re.compile('<.*?>')\n",
    "    cleantext = re.sub(cleanr, '', raw)\n",
    "    cleantext = re.sub(r'^https?:\\/\\/.*[\\r\\n]*', '', cleantext, flags=re.MULTILINE)\n",
    "    cleantext = cleantext.lower()\n",
    "    cleantext = re.sub('\\'', '', cleantext, flags = re.MULTILINE)\n",
    "    PERMITTED_CHARS = \"0123456789abcdefghijklmnopqrstuvwxyz \" \n",
    "    cleantext = \"\".join(c for c in cleantext if c in PERMITTED_CHARS)\n",
    "    words = nltk.word_tokenize(cleantext)\n",
    "    new = ' '.join(ps.stem(w) for w in words if w not in stop)\n",
    "    return new\n",
    "\n",
    "i=1\n",
    "for review in data['Review']:\n",
    "    data.at[i, 'Review'] = preprocess(review)\n",
    "    i = i+1\n",
    "    \n",
    "data"
   ]
  },
  {
   "cell_type": "code",
   "execution_count": 4,
   "metadata": {
    "id": "DyaSkfcvYGXk"
   },
   "outputs": [
    {
     "name": "stdout",
     "output_type": "stream",
     "text": [
      "Average length of a sentence = 119.77189543790875\n"
     ]
    },
    {
     "data": {
      "image/png": "[encoded data removed]",
      "text/plain": [
       "<Figure size 864x1080 with 1 Axes>"
      ]
     },
     "metadata": {
      "needs_background": "light"
     },
     "output_type": "display_data"
    },
    {
     "data": {
      "image/png": "[encoded data removed]",
      "text/plain": [
       "<Figure size 864x1080 with 1 Axes>"
      ]
     },
     "metadata": {
      "needs_background": "light"
     },
     "output_type": "display_data"
    }
   ],
   "source": [
    "# Print Statistics of Data like avg length of sentence , proposition of data w.r.t class labels\n",
    "import matplotlib.pyplot as plt\n",
    "import numpy as np\n",
    "import seaborn as sns\n",
    "num_words = []\n",
    "words = []\n",
    "for review in data['Review']:\n",
    "    temp = nltk.sent_tokenize(review)\n",
    "    for sent in temp:\n",
    "        num_words.append(len(nltk.word_tokenize(sent)))\n",
    "\n",
    "for review in data['Review']:\n",
    "    temp3 = nltk.word_tokenize(review)\n",
    "    for word in temp3:\n",
    "        words.append(word)\n",
    "\n",
    "print('Average length of a sentence = ' + str(np.mean(num_words)))\n",
    "\n",
    "fdist = nltk.FreqDist(words)\n",
    "fdist_df = pd.DataFrame({'words': list(fdist.keys()), \n",
    "                              'Count': list(fdist.values())})\n",
    "g = fdist_df.nlargest(columns=\"Count\", n = 50) \n",
    "plt.figure(figsize=(12,15)) \n",
    "ax = sns.barplot(data=g, x= \"Count\", y = \"words\") \n",
    "ax.set(ylabel = 'Count') \n",
    "plt.show()\n",
    "\n",
    "fdist_sentiment = nltk.FreqDist(data['Sentiment'])\n",
    "fdist_s_df = pd.DataFrame({'sentiments': list(fdist_sentiment.keys()), 'Count': list(fdist_sentiment.values())})\n",
    "g2 = fdist_s_df.nlargest(columns=\"Count\", n = 50) \n",
    "plt.figure(figsize=(12,15)) \n",
    "ax = sns.barplot(data=g2, y= \"Count\", x = \"sentiments\") \n",
    "ax.set(ylabel = 'Count') \n",
    "plt.show()"
   ]
  },
  {
   "cell_type": "markdown",
   "metadata": {
    "id": "_FkJ-e2pUwun"
   },
   "source": [
    "# Naive Bayes classifier"
   ]
  },
  {
   "cell_type": "code",
   "execution_count": 5,
   "metadata": {
    "id": "eVq-mN28U_J4"
   },
   "outputs": [],
   "source": [
    "# get reviews column from df\n",
    "reviews = data['Review']\n",
    "\n",
    "# get labels column from df\n",
    "labels_old = data['Sentiment']"
   ]
  },
  {
   "cell_type": "code",
   "execution_count": 6,
   "metadata": {
    "id": "Ljo5NquhXTXr"
   },
   "outputs": [
    {
     "name": "stdout",
     "output_type": "stream",
     "text": [
      "1        positive\n",
      "2        positive\n",
      "3        positive\n",
      "4        negative\n",
      "5        positive\n",
      "           ...   \n",
      "49996    positive\n",
      "49997    negative\n",
      "49998    negative\n",
      "49999    negative\n",
      "50000    negative\n",
      "Name: Sentiment, Length: 50000, dtype: object\n",
      "[0 1]\n",
      "[1 1 1 ... 0 0 0]\n"
     ]
    }
   ],
   "source": [
    "# Use label encoder to encode labels. Convert to 0/1\n",
    "print(labels_old)\n",
    "encoder = LabelEncoder()\n",
    "labels = encoder.fit_transform(labels_old.astype(str))\n",
    "\n",
    "# print(enc.classes_)\n",
    "print(np.unique(labels))\n",
    "print(labels)"
   ]
  },
  {
   "cell_type": "code",
   "execution_count": 7,
   "metadata": {
    "id": "wzG-C_EVWWET"
   },
   "outputs": [
    {
     "name": "stdout",
     "output_type": "stream",
     "text": [
      "\n",
      "***************** Training sentences *****************\n",
      "\n",
      "['forget lousi act forgiven sort film even terribl unnatur dialog illog event subtitl actual reflect said far wors blatant absenc skill experienc director mayb took holiday editor film made watch film feel complet date even though made 7 year ago comput viru portal afterlif lol dial internetconnect clucki ghost imag photoshop pictur look therei thati face zoom face oop sound break chop next scene scene sequenc poorli edit result dont flow youll watch girl find corps still hang knot one scene liter 10 second later see place appar unaffect smile go aboutapart mani problem movi term productionvalu also pain long repetit thu utterli boringi recommend shutter stead orient thai horror movi done well'\n",
      " 'ah mcbain charact name immort forev ridicul simpson also alway person least remain name titl tremend entertain outrag violent earli 90 action flick direct cool dude brought us extermin star two ultim badass bmovi hero christoph walken michael ironsid latter cute littl macho ponytail guess mcbain larg label guilti pleasur there way convinc anyon intellectu motion pictur film unimagin preposter action hero take small gangster poss mcbain take entir countri yet take way serious script nonstop incoher spitfir clichd situat nonsens twist compulsori sentiment interlud grotesqu stage action sequenc utterli implaus charact draw total deliri movi love vietnam pow mcbain life save fellow soldier roberto santo last day war keep half dollar note symbol mcbain santo debt eighteen year later santo spirit rebel lead revolut corrupt presid home countri columbia santo initi attempt take power fail he publicli execut el president balconi sister travel new york dollar note turn mcbain financi assist manpow mcbain former vietnam buddi coincident happen fed injustic world charter miser littl plane fli columbia open gigant whoopass okay let fool fact your read user comment mcbain alreadi indic sort interest lowbudget bmovi action one fellow review spent quit time compos list contain main stupid insens moment mcbain list total accur concur heck could even add senseless sequenc list like preposter needless heroic self sacrific soldier doesnt even affin goal mission rest mcbain squad what point definit know expect 100 coher plausibl masterpiec know beforehand silli exaggeratedli flamboy movi mayb even exact reason want check terrif outrag excit movi bunch former vietnam buddi turn mercenari declar war corrupt columbian presid nation drug cartel pleas dont expect anoth apocalyps particular motion pictur reli ruff n tuff act perform macho lead whole lot explos gunfight last least fantast soundtrack joan baez sing cover brother arm'\n",
      " 'vh cover evil make look like cool underwat horror flick sadli closer bore adventur flick real horror element start diver get attack see bit blood that blood entir filmth evil isnt worst around horror film tedious bore act decent honest thing keep watch develop romanc two lead there nightmar sequenc seem like director didnt know mang sit wouldnt recommend film anyon horror fan might want copi cool vh cover best left'\n",
      " ...\n",
      " 'movi certainli one greatest film ever made stori told steadi pace told mostli word cinemat mean express perfect blend spectacular special effect classic music bring life creation human imagin realist poetic way stori quit simpl first glanc titl impli archetyp journey motiv repeat thousand year motiv alway use depict trip space time beyond also rich philosoph mean film poetic contempl excit etern question odyssey person odyssey speci film great yet case impress alway mingl book ive read age 10 realli think problem like relationship evolut humankind develop human moral impress great enough make fall entir genr scienc fictionth day learn 2001 got special effect oscar even nomin best pictur day academi award complet becam two word mean noth'\n",
      " 'excel depict one unwholesom aspect era love visualsveri fit stori connect graphic nove thought tom hank realli great came across well someon harden work didnt fulli choos still want normal life famili best see happen dont want spoil plotbut see movi person want movi usual shoot em actiongangst format violent though'\n",
      " 'go film fan ask titl film direct robert wise secondunit direct yakima canutt sergio leon design ken adam score max steiner star sir stanley baker sir cedric hardwick brigitt bardot film colour scope stereo cinecitta 1955 thousand extra theyll tell go away stop sillytheyl tell film exist name youv quot never work togeth werent even contemporan youv pick name movi public random attempt befuddl themat point direct imdb show cast crew helen troy theyll amaz lesserknown swordandsand epic name niall macginni janett scott good old harri andrewsand certainli odditi war 1000 italian extra cost 25 day toga drama stapl italian cinema orgi scene shot twice one top without guess version britain america got believ even la sophia extra oneeith way name stagger mind realli coincid said name either reach end career canutt steiner begin everybodi elseonli robert wise niall macginni middl careersfor record leon uncredit learn trade adam still invent descend circl ceil set trademark hed go put earli bond baker yet star help produc like zulu robberi go direct welsh tv compani call harlech die tragic youngwhil harri andrew would go becom one britain favourit charact actor janett scott thora hird daughter would never make realli big time forget day triffid even though bit ad later pad happi end crack worldsir cedric theatr knew mug film bardot bardot gawdsakebut stellar peopl camp old nonsens dont ask two main star nonam italian helen moustach pari pretti brit supportto summaris think mark one major fluke stereo honest hadnt seen wouldnt believ either']\n",
      "\n",
      "***************** Test sentences *****************\n",
      "\n",
      "['internet databas list tv show ye seri mtv shown odditi program head aeon flux recal correctli version watch time vh tape episod run togeth film without annoy credit wait week next fifteen minutesy stori maxx juli winter sarah mr gone maxx superhero bum juli social worker leopard queen sarah girl listen less smith mr gone guy cant seem keep head there weird creaturesi use maxx juli part fun tri figur part stori real dream mayb theyr real dream mayb one charact doesnt exist mayb one exist dream other youll wait find outi comic book show came one favorit artwork spectacular stori origin unlik anyth youll find superman batman bend mind strong adult overton without obscen offens show use basic exact artwork move stori guarante beauti intrins found comic would faith reproduc best show appear odditi hand downif like comic darker natur need good mind trip show check donni darko ever thingth astonish thing never went becom anoth movi televis seri dont say disappoint keep simpl seal movi gold kept free blemish brought success failur'\n",
      " 'rememb see 1978 comedi one bargain matine took look studi break colleg cours walter matthau glenda jackson effect tracyhepburnstyl thrustingandparri featherweight romp direct reliabl howard zieff privat benjamin newli widow doctor aggress reentri date game breez quickli primarili thank clever script veteran screenwrit juliu j epstein casablanca along alan mandel max shulman futur director charl shyerdr charley nichol come back hawaii wife death upon return becom awar instant catnip singl women la work hospit run increasingli senil chiefofstaff amo willoughbi charley pacifi keep resid enter ann atkinson transplant englishwoman bake cheesecak live certain concret opinion medic profess express freeli pb talk show cours charley show discuss panel spark say fli lead standard complic seriou charley will becom ann time hospit deal potenti wrong death lawsuit widow rich basebal team owner die hospit willoughbi careless supervisionit refresh see matur yet brace love stori two charact inhabit actor deliv line scalpelwield skill surgeon matthau usual 1970 curmudgeonli swinger quit sight waddl gangli arm held akimbo power walk away heavi awardwin elizabethan role jackson crispli sardon charmingli vulner feisti ann think doctor aspir albert schweitzer art carney play willoughbi predict bluster richard benjamin provid amiabl support charley colleagu dr solomon compact nice jab greed within medic profess extra 2005 dvd'\n",
      " 'film taken serious great littl film nonethelessit definit piec fluff act imo excellenton film wouldnt go way see bring smile everi time come around cabl like old frienddefinit worth see get chanc'\n",
      " ...\n",
      " 'contain spoiler british director j lee thompson made excel film notabl ice cold alex cape fear countri danc one curiou offer stori set among upper class rural scotland detail strang triangular relationship sir charl ferguson eccentr aristocrat landown sister hilari hilari estrang husband dougla hope reconcili learn career armi offic charl regard low moral fibr appear accur diagnosi condit throughout film display attitud gloomi disillusion world main sourc emot support seem hilari whiski bottl film end committ upperclass lunat asylum peter otool best lawrenc arabia one britain lead actor qualiti work uneven countri danc one better film overact frantic make charl caricatur useless inbr aristocrat though audit part monti python upperclass twit year sketch susannah york hilari michael craig dougla rather better realli outstand act perform film also littl way coher plot beyond tale charless inexor downward slideth main problem film howev neither act plot rather theme dare speak name halfheart hint incestu relationship charl hilari least incestu attract toward part dislik dougla motiv sexual jealousi unfortun even swing sixti earli seventi date film various given either 1969 1970 limit british board film censor will allow film explicitli incestu theme definit offlimit american titl film brotherli love use britain suggest like bbfc hint therefor never develop never get see motiv charl caus moral collaps result hollow film hole centr 410'\n",
      " 'im surpris amount neg review film dont like movi silli overthetop mob stori simpli read much film classic tale mob wife tri escap life troubl follow michel pfeiffer terrificli 80 jersey uncertain uncomfort mob wife matthew modin anal retentivelik mob track cop fall plot mostli predict cutesi merced ruel steal show queen mob wive arent look someth dynam complex movi absolut entertain 80 cult classic wont abl stop watch start'\n",
      " 'everyon involv audienc seek candid see good movi could happen south american stori juli christi kate capshaw think allow role cardboard cutout like everi gene hackman perform andor movi either disinterest hardli believ dread miscast also like defend richard gere vilifi power never intimid occasion persuas disappoint realli expect much director cast cant find candid watch wag dog even bulworth']\n",
      "\n",
      "***************** Training labels *****************\n",
      "\n",
      "[0 1 0 ... 1 1 0]\n",
      "\n",
      "***************** Test labels *****************\n",
      "\n",
      "[1 1 1 ... 0 1 0]\n",
      "\n",
      "*****************\n",
      "\n"
     ]
    }
   ],
   "source": [
    "# Split the data into train and test (80% - 20%). \n",
    "# Use stratify in train_test_split so that both train and test have similar ratio of positive and negative samples.\n",
    "train_sentences, test_sentences, train_labels, test_labels = train_test_split(reviews, labels, stratify = labels, test_size = 0.2)\n",
    "# train_sentences, test_sentences, train_labels, test_labels\n",
    "train_sentences = np.array(train_sentences)\n",
    "test_sentences = np.array(test_sentences)\n",
    "print('\\n***************** Training sentences *****************\\n')\n",
    "print(train_sentences)\n",
    "print('\\n***************** Test sentences *****************\\n')\n",
    "print(test_sentences)\n",
    "print('\\n***************** Training labels *****************\\n')\n",
    "print(train_labels)\n",
    "print('\\n***************** Test labels *****************\\n')\n",
    "print(test_labels)\n",
    "print('\\n*****************\\n')"
   ]
  },
  {
   "cell_type": "markdown",
   "metadata": {
    "id": "Bz1YdsSkiWCX"
   },
   "source": [
    "Here there are two approaches possible for building vocabulary for the naive Bayes.\n",
    "1. Take the whole data (train + test) to build the vocab. In this way while testing there is no word which will be out of vocabulary.\n",
    "2. Take the train data to build vocab. In this case, some words from the test set may not be in vocab and hence one needs to perform smoothing so that one the probability term is not zero.\n",
    " \n",
    "You are supposed to go by the 2nd approach.\n",
    " \n",
    "Also building vocab by taking all words in the train set is memory intensive, hence you are required to build vocab by choosing the top 2000 - 3000 frequent words in the training corpus.\n",
    "\n",
    "> $ P(x_i | w_j) = \\frac{ N_{x_i,w_j}\\, +\\, \\alpha }{ N_{w_j}\\, +\\, \\alpha*d} $\n",
    "\n",
    "\n",
    "$N_{x_i,w_j}$ : Number of times feature $x_i$ appears in samples of class $w_j$\n",
    "\n",
    "$N_{w_j}$ : Total count of features in class $w_j$\n",
    "\n",
    "$\\alpha$ : Parameter for additive smoothing. Here consider $\\alpha$ = 1\n",
    "\n",
    "$d$ : Dimentionality of the feature vector  $x = [x_1,x_2,...,x_d]$. In our case its the vocab size.\n",
    "\n",
    "\n",
    "\n",
    "\n"
   ]
  },
  {
   "cell_type": "code",
   "execution_count": 8,
   "metadata": {
    "id": "1cllNfGmUr77"
   },
   "outputs": [
    {
     "name": "stderr",
     "output_type": "stream",
     "text": [
      "IOPub data rate exceeded.\n",
      "The notebook server will temporarily stop sending output\n",
      "to the client in order to avoid crashing it.\n",
      "To change this limit, set the config variable\n",
      "`--NotebookApp.iopub_data_rate_limit`.\n",
      "\n",
      "Current values:\n",
      "NotebookApp.iopub_data_rate_limit=1000000.0 (bytes/sec)\n",
      "NotebookApp.rate_limit_window=3.0 (secs)\n",
      "\n"
     ]
    },
    {
     "data": {
      "text/plain": [
       "'max_features parameter : If not None, build a vocabulary that only consider the top max_features ordered by term frequency across the corpus.'"
      ]
     },
     "execution_count": 8,
     "metadata": {},
     "output_type": "execute_result"
    }
   ],
   "source": [
    "from sklearn.feature_extraction.text import CountVectorizer\n",
    "# Use Count vectorizer to get frequency of the words\n",
    "\n",
    "pos_train = []\n",
    "neg_train = []\n",
    "all_words_pos = []\n",
    "all_words_neg = []\n",
    "all_words = []\n",
    "\n",
    "for i in range(len(train_labels)):\n",
    "    if train_labels[i]==1:\n",
    "        pos_train.append(train_sentences[i])\n",
    "    else:\n",
    "        neg_train.append(train_sentences[i])\n",
    "        \n",
    "for review in pos_train:\n",
    "    temp4 = nltk.word_tokenize(review)\n",
    "    for word in temp4:\n",
    "        all_words_pos.append(word)\n",
    "        all_words.append(word)\n",
    "        \n",
    "vec_pos = CountVectorizer(all_words_pos, max_features = 3000)\n",
    "X = vec_pos.fit_transform(all_words_pos)\n",
    "pos_vocab = vec_pos.vocabulary_\n",
    "\n",
    "for review in neg_train:\n",
    "    temp5 = nltk.word_tokenize(review)\n",
    "    for word in temp5:\n",
    "        all_words_neg.append(word)\n",
    "        all_words.append(word)\n",
    "        \n",
    "vec_neg = CountVectorizer(all_words_neg, max_features = 3000)\n",
    "Y = vec_neg.fit_transform(all_words_neg)\n",
    "neg_vocab = vec_neg.vocabulary_\n",
    "\n",
    "vec_all = CountVectorizer(all_words, max_features = 3000)\n",
    "Z = vec_all.fit_transform(all_words)\n",
    "all_vocab = vec_all.vocabulary_.keys()\n",
    "\n",
    "'''max_features parameter : If not None, build a vocabulary that only consider the top max_features ordered by term frequency across the corpus.'''"
   ]
  },
  {
   "cell_type": "code",
   "execution_count": 9,
   "metadata": {
    "id": "qzRvPjWaWUnm"
   },
   "outputs": [],
   "source": [
    "# Use laplace smoothing for words in test set not present in vocab of train set\n",
    "def smoothing(word, sentiment, alpha = 1):\n",
    "    if sentiment == 1:\n",
    "        if word in all_vocab and word in pos_vocab.keys():\n",
    "            count_word = pos_vocab[word]\n",
    "        else:\n",
    "            count_word = 0\n",
    "        prob_word = (count_word + alpha)/(sum(list(pos_vocab.values())) + alpha * len(all_vocab))\n",
    "    else:\n",
    "        if word in all_vocab and word in neg_vocab.keys():\n",
    "            count_word = neg_vocab[word]\n",
    "        else:\n",
    "            count_word = 0\n",
    "        prob_word = (count_word + alpha)/(sum(list(neg_vocab.values())) + alpha * len(all_vocab))\n",
    "    return math.log(prob_word)"
   ]
  },
  {
   "cell_type": "code",
   "execution_count": 10,
   "metadata": {
    "id": "iE7pxWIYW1z0"
   },
   "outputs": [],
   "source": [
    "# Build the model. Don't use the model from sklearn\n",
    "def Trainer(old_review):\n",
    "    review = preprocess(old_review)\n",
    "    words = nltk.word_tokenize(review)\n",
    "    total_prob_0 = 0\n",
    "    total_prob_1 = 0\n",
    "    for word in words:\n",
    "        total_prob_0 = total_prob_0 + smoothing(word, 0)\n",
    "        total_prob_1 = total_prob_1 + smoothing(word, 1)\n",
    "    if total_prob_1 > total_prob_0:\n",
    "        sentiment=1\n",
    "    else:\n",
    "        sentiment=0\n",
    "    return sentiment"
   ]
  },
  {
   "cell_type": "code",
   "execution_count": 11,
   "metadata": {
    "id": "AtQSl1zvW4DD"
   },
   "outputs": [
    {
     "name": "stdout",
     "output_type": "stream",
     "text": [
      "[1 1 0 ... 0 1 0]\n",
      "[1 1 1 ... 0 1 0]\n",
      "Accuracy on test set = 0.6751\n",
      "              precision    recall  f1-score   support\n",
      "\n",
      "           0       0.68      0.65      0.67      5000\n",
      "           1       0.67      0.70      0.68      5000\n",
      "\n",
      "    accuracy                           0.68     10000\n",
      "   macro avg       0.68      0.68      0.67     10000\n",
      "weighted avg       0.68      0.68      0.67     10000\n",
      "\n",
      "Wall time: 5min 7s\n"
     ]
    }
   ],
   "source": [
    "%%time\n",
    "# Test the model on test set and report Accuracy\n",
    "pred = []\n",
    "for review in test_sentences:\n",
    "    pred.append(Trainer(review))\n",
    "pred = np.array(pred)\n",
    "count_true=0    \n",
    "for i in range(len(test_labels)):\n",
    "    if pred[i]==test_labels[i]:\n",
    "        count_true = count_true + 1\n",
    "print(pred)\n",
    "print(test_labels)\n",
    "print('Accuracy on test set = ' + str(count_true/len(test_labels)))\n",
    "print(classification_report(test_labels, pred))"
   ]
  },
  {
   "cell_type": "markdown",
   "metadata": {
    "id": "WlNql0acU7sa"
   },
   "source": [
    "# *LSTM* based Classifier\n",
    "\n",
    "Use the above train and test splits."
   ]
  },
  {
   "cell_type": "code",
   "execution_count": 12,
   "metadata": {
    "id": "SkqnvbUOXoN0"
   },
   "outputs": [],
   "source": [
    "# Hyperparameters of the model\n",
    "vocab_size = 3000 # choose based on statistics\n",
    "oov_tok = '<OOK>'\n",
    "embedding_dim = 100\n",
    "max_length = 120 # choose based on statistics, for example 150 to 200\n",
    "padding_type='post'\n",
    "trunc_type='post'"
   ]
  },
  {
   "cell_type": "code",
   "execution_count": 13,
   "metadata": {
    "id": "UeycEg9nZAOF"
   },
   "outputs": [],
   "source": [
    "# tokenize sentences\n",
    "tokenizer = Tokenizer(num_words = vocab_size, oov_token=oov_tok)\n",
    "tokenizer.fit_on_texts(train_sentences)\n",
    "word_index = tokenizer.word_index\n",
    "\n",
    "# convert train dataset to sequence and pad sequences\n",
    "train_sequences = tokenizer.texts_to_sequences(train_sentences)\n",
    "train_padded = pad_sequences(train_sequences, padding='post', maxlen=max_length)\n",
    "\n",
    "# convert Test dataset to sequence and pad sequences\n",
    "test_sequences = tokenizer.texts_to_sequences(test_sentences)\n",
    "test_padded = pad_sequences(test_sequences, padding='post', maxlen=max_length)"
   ]
  },
  {
   "cell_type": "code",
   "execution_count": 14,
   "metadata": {
    "id": "Mtw3w895ZP39"
   },
   "outputs": [
    {
     "name": "stdout",
     "output_type": "stream",
     "text": [
      "Model: \"sequential\"\n",
      "_________________________________________________________________\n",
      "Layer (type)                 Output Shape              Param #   \n",
      "=================================================================\n",
      "embedding (Embedding)        (None, 120, 100)          300000    \n",
      "_________________________________________________________________\n",
      "bidirectional (Bidirectional (None, 128)               84480     \n",
      "_________________________________________________________________\n",
      "dense (Dense)                (None, 24)                3096      \n",
      "_________________________________________________________________\n",
      "dense_1 (Dense)              (None, 1)                 25        \n",
      "=================================================================\n",
      "Total params: 387,601\n",
      "Trainable params: 387,601\n",
      "Non-trainable params: 0\n",
      "_________________________________________________________________\n"
     ]
    }
   ],
   "source": [
    "# model initialization\n",
    "model = keras.Sequential([\n",
    "    keras.layers.Embedding(vocab_size, embedding_dim, input_length=max_length),\n",
    "    keras.layers.Bidirectional(keras.layers.LSTM(64)),\n",
    "    keras.layers.Dense(24, activation='relu'),\n",
    "    keras.layers.Dense(1, activation='sigmoid')\n",
    "])\n",
    "\n",
    "# compile model\n",
    "model.compile(loss='binary_crossentropy',\n",
    "              optimizer='adam',\n",
    "              metrics=['accuracy'])\n",
    "\n",
    "# model summary\n",
    "model.summary()"
   ]
  },
  {
   "cell_type": "code",
   "execution_count": 15,
   "metadata": {
    "id": "skmaDJMnZTzc"
   },
   "outputs": [
    {
     "name": "stdout",
     "output_type": "stream",
     "text": [
      "Epoch 1/5\n",
      "1125/1125 [==============================] - 16s 14ms/step - loss: 0.3877 - accuracy: 0.8238 - val_loss: 0.3259 - val_accuracy: 0.8540\n",
      "Epoch 2/5\n",
      "1125/1125 [==============================] - 15s 14ms/step - loss: 0.2782 - accuracy: 0.8845 - val_loss: 0.3148 - val_accuracy: 0.8645\n",
      "Epoch 3/5\n",
      "1125/1125 [==============================] - 15s 14ms/step - loss: 0.2367 - accuracy: 0.9054 - val_loss: 0.3357 - val_accuracy: 0.8605\n",
      "Epoch 4/5\n",
      "1125/1125 [==============================] - 15s 14ms/step - loss: 0.1968 - accuracy: 0.9226 - val_loss: 0.3804 - val_accuracy: 0.8575\n",
      "Epoch 5/5\n",
      "1125/1125 [==============================] - 15s 14ms/step - loss: 0.1606 - accuracy: 0.9379 - val_loss: 0.3893 - val_accuracy: 0.8413\n"
     ]
    }
   ],
   "source": [
    "num_epochs = 5\n",
    "history = model.fit(train_padded, train_labels, \n",
    "                    epochs=num_epochs, verbose=1, \n",
    "                    validation_split=0.1)"
   ]
  },
  {
   "cell_type": "code",
   "execution_count": 16,
   "metadata": {
    "id": "TjEhWEr5Zq7M"
   },
   "outputs": [
    {
     "name": "stdout",
     "output_type": "stream",
     "text": [
      "              precision    recall  f1-score   support\n",
      "\n",
      "           0       0.86      0.86      0.86      5000\n",
      "           1       0.86      0.86      0.86      5000\n",
      "\n",
      "    accuracy                           0.86     10000\n",
      "   macro avg       0.86      0.86      0.86     10000\n",
      "weighted avg       0.86      0.86      0.86     10000\n",
      "\n"
     ]
    }
   ],
   "source": [
    "# Calculate accuracy on Test data\n",
    "\n",
    "prediction = model.predict(test_padded)\n",
    "\n",
    "# Get probabilities\n",
    "pred = []\n",
    "for p in prediction:\n",
    "    if p<0.5:\n",
    "        pred.append(0)\n",
    "    else:\n",
    "        pred.append(1)\n",
    "        \n",
    "# Get labels based on probability 1 if p>= 0.5 else 0\n",
    "print(classification_report(test_labels, pred))\n",
    "\n",
    "# Accuracy : one can use classification_report from sklearn"
   ]
  },
  {
   "cell_type": "markdown",
   "metadata": {
    "id": "TIICV-ySOYL0"
   },
   "source": [
    "## Get predictions for random examples"
   ]
  },
  {
   "cell_type": "code",
   "execution_count": 17,
   "metadata": {
    "id": "m2RmfNL3OYL0"
   },
   "outputs": [
    {
     "name": "stdout",
     "output_type": "stream",
     "text": [
      "[1, 1, 0]\n"
     ]
    }
   ],
   "source": [
    "# reviews on which we need to predict\n",
    "sentence = [\"The movie was very touching and heart whelming\", \n",
    "            \"I have never seen a terrible movie like this\", \n",
    "            \"the movie plot is terrible but it had good acting\"]\n",
    "\n",
    "# convert to a sequence\n",
    "sequences = tokenizer.texts_to_sequences(sentence)\n",
    "\n",
    "# pad the sequence\n",
    "padded = pad_sequences(sequences, padding='post', maxlen=max_length)\n",
    "\n",
    "# Get probabilities\n",
    "model.predict(padded)\n",
    "\n",
    "# Get labels based on probability 1 if p>= 0.5 else 0\n",
    "\n",
    "pred_new = []\n",
    "for p in model.predict(padded):\n",
    "    if p<0.5:\n",
    "        pred_new.append(0)\n",
    "    else:\n",
    "        pred_new.append(1)\n",
    "        \n",
    "print(pred_new)"
   ]
  }
 ],
 "metadata": {
  "colab": {
   "collapsed_sections": [],
   "name": "NLP Assignment -3",
   "provenance": []
  },
  "kernelspec": {
   "display_name": "Python 3",
   "language": "python",
   "name": "python3"
  },
  "language_info": {
   "codemirror_mode": {
    "name": "ipython",
    "version": 3
   },
   "file_extension": ".py",
   "mimetype": "text/x-python",
   "name": "python",
   "nbconvert_exporter": "python",
   "pygments_lexer": "ipython3",
   "version": "3.8.3"
  }
 },
 "nbformat": 4,
 "nbformat_minor": 1
}
